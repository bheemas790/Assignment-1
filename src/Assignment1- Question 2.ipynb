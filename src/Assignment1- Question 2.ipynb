{
 "cells": [
  {
   "cell_type": "markdown",
   "metadata": {},
   "source": [
    "# Zhang's method"
   ]
  },
  {
   "cell_type": "code",
   "execution_count": null,
   "metadata": {},
   "outputs": [],
   "source": [
    "# import necessary libraries\n",
    "import os\n",
    "import cv2\n",
    "import glob\n",
    "import numpy as np\n",
    "import matplotlib.pyplot as plt"
   ]
  },
  {
   "cell_type": "code",
   "execution_count": null,
   "metadata": {},
   "outputs": [],
   "source": [
    "path = \"C:/Users/sreed/My_Python_Scripts/Computer Vision/src/images - Assignment1/Zhangs\"\n",
    "\n",
    "zhang_img_1 = './IMG_5456.jpg'\n",
    "zhang_img_2 = './IMG_5470.jpg'\n",
    "\n",
    "\n",
    "cbraw = 6#6\n",
    "cbcol = 8#4\n",
    "# prepare object points, like (0,0,0), (1,0,0), (2,0,0) ....,(6,5,0)\n",
    "objp = np.zeros((cbraw*cbcol,3), np.float32) \n",
    " \n",
    "objp[:,:2] = np.mgrid[0:cbraw,0:cbcol].T.reshape(-1,2)\n",
    "\n",
    "print(objp.shape)\n",
    "\n",
    "criteria = (cv2.TERM_CRITERIA_EPS + cv2.TERM_CRITERIA_MAX_ITER, 30, 0.001)"
   ]
  },
  {
   "cell_type": "code",
   "execution_count": 24,
   "metadata": {},
   "outputs": [
    {
     "name": "stdout",
     "output_type": "stream",
     "text": [
      "(48, 3)\n",
      "['IMG_5456.JPG', 'IMG_5470.jpg']\n",
      "newcameramtx:\n",
      " [[3.02642227e+04 0.00000000e+00 1.91526977e+03]\n",
      " [0.00000000e+00 2.98069062e+04 7.55451638e+02]\n",
      " [0.00000000e+00 0.00000000e+00 1.00000000e+00]]\n",
      "dist:\n",
      " [[ 5.20552114e+00 -2.08498934e+02 -4.07992380e-02  7.84121743e-02\n",
      "  -3.65848530e-01]]\n",
      "total error:  0.053613417210634035\n",
      "newcameramtx:\n",
      " [[6.18873633e+03 0.00000000e+00 9.15664077e+02]\n",
      " [0.00000000e+00 5.91365381e+03 1.20269056e+03]\n",
      " [0.00000000e+00 0.00000000e+00 1.00000000e+00]]\n",
      "dist:\n",
      " [[ 1.37124823e-01  2.12906469e+00  8.06192962e-03 -1.80442793e-02\n",
      "  -2.49184752e+01]]\n",
      "total error:  0.11544347570472387\n"
     ]
    }
   ],
   "source": [
    "\n",
    "objpoints = [] # 3d point in real world space\n",
    "imgpoints = [] # 2d points in image plane.\n",
    "images = os.listdir(path)\n",
    "print(images)\n",
    "for fname in images:\n",
    "# For each picture, identify the corner points, record the world object coordinates and image coordinates\n",
    "    \n",
    "    img = cv2.imread(fname) #source image\n",
    "    #The picture I used is too big and it is reduced by half\n",
    "    img = cv2.resize(img,None,fx=0.5, fy=0.5, interpolation = cv2.INTER_CUBIC)\n",
    "    gray = cv2.cvtColor(img,cv2.COLOR_BGR2GRAY) #Turn to grayscale\n",
    "   \n",
    "    #Find corner points, save in corners, ret is the flag to find corner points\n",
    "    ret, corners = cv2.findChessboardCorners(gray,(6,8),None)\n",
    "    \n",
    "    corners2 = cv2.cornerSubPix(gray,corners,(11,11),(-1,-1),criteria)\n",
    "\n",
    "    objpoints.append(objp)\n",
    "    imgpoints.append(corners2)\n",
    "    \n",
    "    #Draw corner points on the board, just a visualization tool\n",
    "    img = cv2.drawChessboardCorners(gray,(6,8),corners2,ret)\n",
    "    img = cv2.resize(img, (5472, 3648)) \n",
    "    cv2.imwrite(\"{0}_corners.jpg\".format(fname.rsplit('.', 1)[0]),img)\n",
    "    cv2.waitKey(10000)\n",
    "\n",
    "    ret, mtx, dist, rvecs, tvecs = cv2.calibrateCamera(objpoints, imgpoints, gray.shape[::-1],None,None)\n",
    "    img = cv2.imread(\"{0}_corners.jpg\".format(fname.rsplit('.', 1)[0]))\n",
    "    \n",
    "    img = cv2.resize(img,None,fx=0.8, fy=0.8, interpolation = cv2.INTER_CUBIC)\n",
    "    h,w = img.shape[:2]\n",
    "\n",
    "    newcameramtx, roi=cv2.getOptimalNewCameraMatrix(mtx,dist,(w,h),1,(w,h))\n",
    "    \n",
    "    #Correct distortion\n",
    "    dst = cv2.undistort(img, mtx, dist, None, newcameramtx)\n",
    "    \n",
    "    print('Rotation vector')\n",
    "    print(rvecs)\n",
    "    print('Translation vector')\n",
    "    print(tvecs)\n",
    "    \n",
    "    #Output the picture after correcting the distortion\n",
    "    x,y,w,h = roi\n",
    "    dst = dst[y:y+h, x:x+w]\n",
    "    cv2.imwrite('calibresult_{0}.jpg'.format(fname.rsplit('.', 1)[0]),dst)\n",
    "    \n",
    "    #Print the two matrix parameters\n",
    "    print(\"newcameramtx:\\n\",newcameramtx)\n",
    "    print(\"dist:\\n\",dist)\n",
    "    \n",
    "    #Calculation error\n",
    "    tot_error = 0\n",
    "    for i in range(len(objpoints)):\n",
    "        imgpoints2, _ = cv2.projectPoints(objpoints[i], rvecs[i], tvecs[i], mtx, dist)\n",
    "        error = cv2.norm(imgpoints[i],imgpoints2, cv2.NORM_L2)/len(imgpoints2)\n",
    "        tot_error += error\n",
    "\n",
    "    print(\"total error: \", tot_error/len(objpoints))\n"
   ]
  },
  {
   "cell_type": "markdown",
   "metadata": {},
   "source": [
    "#  Overlay a wireframe"
   ]
  },
  {
   "cell_type": "code",
   "execution_count": 32,
   "metadata": {},
   "outputs": [
    {
     "name": "stdout",
     "output_type": "stream",
     "text": [
      "(3648, 5472)\n",
      "(3648, 5472)\n"
     ]
    },
    {
     "data": {
      "text/plain": [
       "-1"
      ]
     },
     "execution_count": 32,
     "metadata": {},
     "output_type": "execute_result"
    }
   ],
   "source": [
    "\n",
    "img = cv2.imread(\"IMG_5456.jpg\")\n",
    "overlay_t = cv2.imread(\"IMG_5456_corners.jpg\") # -1 loads with transparency\n",
    "height1, width1 = img.shape[:2]\n",
    "height2, width2 = overlay_t.shape[:2]\n",
    "def overlay_transparent(bg_img, img_to_overlay_t):\n",
    "    \n",
    "    # Extract the alpha mask of the RGBA image, convert to RGB \n",
    "    b,g,r = cv2.split(img_to_overlay_t)\n",
    "    overlay_color = cv2.merge((b,g,r))\n",
    "\n",
    "    mask = cv2.medianBlur(a,5)\n",
    "\n",
    "    # Black-out the area behind the logo in our original ROI\n",
    "    img1_bg = cv2.bitwise_and(bg_img.copy(),bg_img.copy(),mask = cv2.bitwise_not(mask))\n",
    "\n",
    "    # Mask out the logo from the logo image.\n",
    "    img2_fg = cv2.bitwise_and(overlay_color,overlay_color,mask = mask)\n",
    "\n",
    "    # Update the original image with our new ROI\n",
    "    bg_img = cv2.add(img1_bg, img2_fg)\n",
    "    cv2.imwrite('overlay.jpg',bg_img)\n",
    "    print(bg_img.shape[:2])\n",
    "    return bg_img\n",
    "\n",
    "bg = overlay_transparent(img, overlay_t)\n",
    "print(bg.shape[:2])\n",
    "cv2.imshow('image',bg)\n",
    "cv2.waitKey(1000)"
   ]
  },
  {
   "cell_type": "code",
   "execution_count": null,
   "metadata": {},
   "outputs": [],
   "source": []
  }
 ],
 "metadata": {
  "kernelspec": {
   "display_name": "Python 3",
   "language": "python",
   "name": "python3"
  },
  "language_info": {
   "codemirror_mode": {
    "name": "ipython",
    "version": 3
   },
   "file_extension": ".py",
   "mimetype": "text/x-python",
   "name": "python",
   "nbconvert_exporter": "python",
   "pygments_lexer": "ipython3",
   "version": "3.7.4"
  }
 },
 "nbformat": 4,
 "nbformat_minor": 2
}
